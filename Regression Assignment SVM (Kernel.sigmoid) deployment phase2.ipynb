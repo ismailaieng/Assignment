{
 "cells": [
  {
   "cell_type": "code",
   "execution_count": 1,
   "metadata": {},
   "outputs": [],
   "source": [
    "# DEPLOYMENT PROCRESS - PHASE 2 FOR END USER RESULT\n",
    "import pickle"
   ]
  },
  {
   "cell_type": "code",
   "execution_count": 2,
   "metadata": {},
   "outputs": [],
   "source": [
    "# LOAD THE BEST MODEL FOR CALL TO ACTION \n",
    "loaded_model=pickle.load(open(\"finialized_model_Mult_insurance_pre.sav\",'rb'))"
   ]
  },
  {
   "cell_type": "code",
   "execution_count": 3,
   "metadata": {},
   "outputs": [
    {
     "name": "stdout",
     "output_type": "stream",
     "text": [
      "age:32\n",
      "bmi:65.298\n",
      "children:2\n",
      "sex_male 0 or 1:0\n",
      "smoker_yes 0 or 1:0\n"
     ]
    },
    {
     "data": {
      "text/plain": [
       "array([9771.74055636])"
      ]
     },
     "execution_count": 3,
     "metadata": {},
     "output_type": "execute_result"
    }
   ],
   "source": [
    "#TO GET INPUT FROM USER \n",
    "RD_input=float(input(\"age:\"))\n",
    "Admin_input=float(input(\"bmi:\"))\n",
    "Mark_input=float(input(\"children:\"))\n",
    "flor_input=int(input(\"sex_male 0 or 1:\"))\n",
    "new_input=int(input(\"smoker_yes 0 or 1:\"))\n",
    "result=loaded_model.predict([[RD_input,Admin_input,Mark_input,flor_input,new_input]])\n",
    "result"
   ]
  },
  {
   "cell_type": "code",
   "execution_count": null,
   "metadata": {},
   "outputs": [],
   "source": []
  }
 ],
 "metadata": {
  "kernelspec": {
   "display_name": "Python 3",
   "language": "python",
   "name": "python3"
  },
  "language_info": {
   "codemirror_mode": {
    "name": "ipython",
    "version": 3
   },
   "file_extension": ".py",
   "mimetype": "text/x-python",
   "name": "python",
   "nbconvert_exporter": "python",
   "pygments_lexer": "ipython3",
   "version": "3.7.4"
  }
 },
 "nbformat": 4,
 "nbformat_minor": 2
}
